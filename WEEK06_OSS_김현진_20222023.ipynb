{
  "nbformat": 4,
  "nbformat_minor": 0,
  "metadata": {
    "colab": {
      "provenance": []
    },
    "kernelspec": {
      "name": "python3",
      "display_name": "Python 3"
    },
    "language_info": {
      "name": "python"
    }
  },
  "cells": [
    {
      "cell_type": "code",
      "execution_count": 2,
      "metadata": {
        "id": "hsr5o_IOhU7G"
      },
      "outputs": [],
      "source": [
        "#예제 1\n",
        "\n",
        "def factorial(n):\n",
        "  \"\"\"returns n!\"\"\"\n",
        "  return 1 if n < 2 else n * factorial(n-1)"
      ]
    },
    {
      "cell_type": "code",
      "source": [
        "factorial(42)"
      ],
      "metadata": {
        "colab": {
          "base_uri": "https://localhost:8080/"
        },
        "id": "pSF8v2cKhgQn",
        "outputId": "44a5f7c0-bffb-4ad7-ac52-f53b5625d232"
      },
      "execution_count": 3,
      "outputs": [
        {
          "output_type": "execute_result",
          "data": {
            "text/plain": [
              "1405006117752879898543142606244511569936384000000000"
            ]
          },
          "metadata": {},
          "execution_count": 3
        }
      ]
    },
    {
      "cell_type": "code",
      "source": [
        "factorial.__doc__"
      ],
      "metadata": {
        "colab": {
          "base_uri": "https://localhost:8080/",
          "height": 36
        },
        "id": "YUhYgcnvhnTj",
        "outputId": "1756792c-7554-4399-abad-bffedb4e2164"
      },
      "execution_count": 4,
      "outputs": [
        {
          "output_type": "execute_result",
          "data": {
            "text/plain": [
              "'returns n!'"
            ],
            "application/vnd.google.colaboratory.intrinsic+json": {
              "type": "string"
            }
          },
          "metadata": {},
          "execution_count": 4
        }
      ]
    },
    {
      "cell_type": "code",
      "source": [
        "type(factorial)"
      ],
      "metadata": {
        "colab": {
          "base_uri": "https://localhost:8080/"
        },
        "id": "bCdvwB0JhpKq",
        "outputId": "8dfeceaa-10d8-46b5-d883-3ef57b383702"
      },
      "execution_count": 5,
      "outputs": [
        {
          "output_type": "execute_result",
          "data": {
            "text/plain": [
              "function"
            ]
          },
          "metadata": {},
          "execution_count": 5
        }
      ]
    },
    {
      "cell_type": "code",
      "source": [
        "#예제 2\n",
        "help(factorial)"
      ],
      "metadata": {
        "colab": {
          "base_uri": "https://localhost:8080/"
        },
        "id": "79GNoq_yhrBz",
        "outputId": "f1b9fd54-2fd3-42ba-f864-6ec2f15433d1"
      },
      "execution_count": 6,
      "outputs": [
        {
          "output_type": "stream",
          "name": "stdout",
          "text": [
            "Help on function factorial in module __main__:\n",
            "\n",
            "factorial(n)\n",
            "    returns n!\n",
            "\n"
          ]
        }
      ]
    },
    {
      "cell_type": "code",
      "source": [
        "#예제 3\n",
        "fact = factorial\n",
        "fact"
      ],
      "metadata": {
        "colab": {
          "base_uri": "https://localhost:8080/",
          "height": 103
        },
        "id": "Zzjx2RlfhuGS",
        "outputId": "c10f97f7-45ef-4b66-ea08-b86539740063"
      },
      "execution_count": 7,
      "outputs": [
        {
          "output_type": "execute_result",
          "data": {
            "text/plain": [
              "<function __main__.factorial(n)>"
            ],
            "text/html": [
              "<div style=\"max-width:800px; border: 1px solid var(--colab-border-color);\"><style>\n",
              "      pre.function-repr-contents {\n",
              "        overflow-x: auto;\n",
              "        padding: 8px 12px;\n",
              "        max-height: 500px;\n",
              "      }\n",
              "\n",
              "      pre.function-repr-contents.function-repr-contents-collapsed {\n",
              "        cursor: pointer;\n",
              "        max-height: 100px;\n",
              "      }\n",
              "    </style>\n",
              "    <pre style=\"white-space: initial; background:\n",
              "         var(--colab-secondary-surface-color); padding: 8px 12px;\n",
              "         border-bottom: 1px solid var(--colab-border-color);\"><b>factorial</b><br/>def factorial(n)</pre><pre class=\"function-repr-contents function-repr-contents-collapsed\" style=\"\"><a class=\"filepath\" style=\"display:none\" href=\"#\">/tmp/ipython-input-2850520765.py</a>returns n!</pre></div>"
            ]
          },
          "metadata": {},
          "execution_count": 7
        }
      ]
    },
    {
      "cell_type": "code",
      "source": [
        "fact(5)"
      ],
      "metadata": {
        "colab": {
          "base_uri": "https://localhost:8080/"
        },
        "id": "sYm-uNxVh1BK",
        "outputId": "1119ca5f-0925-4955-8798-477618da5584"
      },
      "execution_count": 8,
      "outputs": [
        {
          "output_type": "execute_result",
          "data": {
            "text/plain": [
              "120"
            ]
          },
          "metadata": {},
          "execution_count": 8
        }
      ]
    },
    {
      "cell_type": "code",
      "source": [
        "map(factorial, range(11))"
      ],
      "metadata": {
        "colab": {
          "base_uri": "https://localhost:8080/"
        },
        "id": "rLxptShth2BP",
        "outputId": "13ccc0f6-96c1-4715-8d38-92bd778de162"
      },
      "execution_count": 9,
      "outputs": [
        {
          "output_type": "execute_result",
          "data": {
            "text/plain": [
              "<map at 0x7dadd23bd240>"
            ]
          },
          "metadata": {},
          "execution_count": 9
        }
      ]
    },
    {
      "cell_type": "code",
      "source": [
        "list(map(fact, range(11)))"
      ],
      "metadata": {
        "colab": {
          "base_uri": "https://localhost:8080/"
        },
        "id": "MNlr7tkHh7oz",
        "outputId": "41624289-6ef6-4f2a-9c67-9f418017329a"
      },
      "execution_count": 10,
      "outputs": [
        {
          "output_type": "execute_result",
          "data": {
            "text/plain": [
              "[1, 1, 2, 6, 24, 120, 720, 5040, 40320, 362880, 3628800]"
            ]
          },
          "metadata": {},
          "execution_count": 10
        }
      ]
    },
    {
      "cell_type": "code",
      "source": [
        "#예제 4\n",
        "fruits = ['strawberry', 'fig', 'apple', 'cherry', 'raspbrry', 'banana']\n",
        "sorted(fruits, key=len)"
      ],
      "metadata": {
        "colab": {
          "base_uri": "https://localhost:8080/"
        },
        "id": "faqbAmXjh9_q",
        "outputId": "c184e709-3bed-4139-8471-64a886533f5e"
      },
      "execution_count": 11,
      "outputs": [
        {
          "output_type": "execute_result",
          "data": {
            "text/plain": [
              "['fig', 'apple', 'cherry', 'banana', 'raspbrry', 'strawberry']"
            ]
          },
          "metadata": {},
          "execution_count": 11
        }
      ]
    },
    {
      "cell_type": "code",
      "source": [
        "#예제 5\n",
        "def reverse(word):\n",
        "  return word[::-1]\n",
        "reverse('testing')"
      ],
      "metadata": {
        "colab": {
          "base_uri": "https://localhost:8080/",
          "height": 36
        },
        "id": "-231xyfNiLIZ",
        "outputId": "eec03a26-ec5d-4877-9b49-c93593cee31c"
      },
      "execution_count": 12,
      "outputs": [
        {
          "output_type": "execute_result",
          "data": {
            "text/plain": [
              "'gnitset'"
            ],
            "application/vnd.google.colaboratory.intrinsic+json": {
              "type": "string"
            }
          },
          "metadata": {},
          "execution_count": 12
        }
      ]
    },
    {
      "cell_type": "code",
      "source": [
        "sorted(fruits, key=reverse)"
      ],
      "metadata": {
        "colab": {
          "base_uri": "https://localhost:8080/"
        },
        "id": "S9bSJ8uoiR6Z",
        "outputId": "fc41a846-6474-43c7-aacb-9f9f7e287790"
      },
      "execution_count": 13,
      "outputs": [
        {
          "output_type": "execute_result",
          "data": {
            "text/plain": [
              "['banana', 'apple', 'fig', 'raspbrry', 'strawberry', 'cherry']"
            ]
          },
          "metadata": {},
          "execution_count": 13
        }
      ]
    },
    {
      "cell_type": "code",
      "source": [
        "#예제 6\n",
        "list(map(fact, range(6)))"
      ],
      "metadata": {
        "colab": {
          "base_uri": "https://localhost:8080/"
        },
        "id": "jRjKex1WiUJx",
        "outputId": "5277f8a6-adbe-4d6b-a139-5cf6445c1582"
      },
      "execution_count": 14,
      "outputs": [
        {
          "output_type": "execute_result",
          "data": {
            "text/plain": [
              "[1, 1, 2, 6, 24, 120]"
            ]
          },
          "metadata": {},
          "execution_count": 14
        }
      ]
    },
    {
      "cell_type": "code",
      "source": [
        "[fact(n) for n in range(6)]"
      ],
      "metadata": {
        "colab": {
          "base_uri": "https://localhost:8080/"
        },
        "id": "0W1I28ZKiX0a",
        "outputId": "a54cb16f-33eb-4086-f75c-b3952f08bf09"
      },
      "execution_count": 15,
      "outputs": [
        {
          "output_type": "execute_result",
          "data": {
            "text/plain": [
              "[1, 1, 2, 6, 24, 120]"
            ]
          },
          "metadata": {},
          "execution_count": 15
        }
      ]
    },
    {
      "cell_type": "code",
      "source": [
        "list(map(factorial, filter(lambda n: n % 2, range(6))))"
      ],
      "metadata": {
        "colab": {
          "base_uri": "https://localhost:8080/"
        },
        "id": "9bWwkZOUiapJ",
        "outputId": "ede9456c-e9da-471d-b8eb-f01fca6ee239"
      },
      "execution_count": 16,
      "outputs": [
        {
          "output_type": "execute_result",
          "data": {
            "text/plain": [
              "[1, 6, 120]"
            ]
          },
          "metadata": {},
          "execution_count": 16
        }
      ]
    },
    {
      "cell_type": "code",
      "source": [
        "[factorial(n) for n in range(6) if n % 2]"
      ],
      "metadata": {
        "colab": {
          "base_uri": "https://localhost:8080/"
        },
        "id": "uncezuBAiglZ",
        "outputId": "bbe34099-0fd3-46e9-de93-5f2dc8087a8f"
      },
      "execution_count": 17,
      "outputs": [
        {
          "output_type": "execute_result",
          "data": {
            "text/plain": [
              "[1, 6, 120]"
            ]
          },
          "metadata": {},
          "execution_count": 17
        }
      ]
    },
    {
      "cell_type": "code",
      "source": [
        "#예제 7\n",
        "fruits = ['strawberry', 'fig', 'apple', 'cherry', 'raspbrry', 'banana']\n",
        "\n",
        "sorted(fruits, key=lambda word: word[::-1])"
      ],
      "metadata": {
        "colab": {
          "base_uri": "https://localhost:8080/"
        },
        "id": "uCdkFMmfijph",
        "outputId": "6e8daaea-b219-48a7-a645-92950f78794d"
      },
      "execution_count": 19,
      "outputs": [
        {
          "output_type": "execute_result",
          "data": {
            "text/plain": [
              "['banana', 'apple', 'fig', 'raspbrry', 'strawberry', 'cherry']"
            ]
          },
          "metadata": {},
          "execution_count": 19
        }
      ]
    },
    {
      "cell_type": "code",
      "source": [
        "#예제 8\n",
        "abs, str, 13"
      ],
      "metadata": {
        "colab": {
          "base_uri": "https://localhost:8080/"
        },
        "id": "1-vhdqmBiunZ",
        "outputId": "380a18f3-b49c-4e2a-8f33-4eb5d970e77f"
      },
      "execution_count": 20,
      "outputs": [
        {
          "output_type": "execute_result",
          "data": {
            "text/plain": [
              "(<function abs(x, /)>, str, 13)"
            ]
          },
          "metadata": {},
          "execution_count": 20
        }
      ]
    },
    {
      "cell_type": "code",
      "source": [
        "[callable(obj) for obj in (abs, str, 13)]"
      ],
      "metadata": {
        "colab": {
          "base_uri": "https://localhost:8080/"
        },
        "id": "wH9-GMC-i4IQ",
        "outputId": "1d504aa5-a028-43ee-8397-6ae8bdb00670"
      },
      "execution_count": 21,
      "outputs": [
        {
          "output_type": "execute_result",
          "data": {
            "text/plain": [
              "[True, True, False]"
            ]
          },
          "metadata": {},
          "execution_count": 21
        }
      ]
    },
    {
      "cell_type": "code",
      "source": [
        "#예제 9\n",
        "import random\n",
        "\n",
        "class BingoCage:\n",
        "  def __init__(self, items):\n",
        "    self._items = list(items)\n",
        "    random.shuffle(self._items)\n",
        "\n",
        "  def pick(self):\n",
        "    try:\n",
        "      return self._items.pop()\n",
        "    except:\n",
        "      raise LookupError('pick from empty BingoCage')\n",
        "\n",
        "  def __call__(self):\n",
        "    return self.pick()\n"
      ],
      "metadata": {
        "id": "llfQkEBDi7IA"
      },
      "execution_count": 101,
      "outputs": []
    },
    {
      "cell_type": "code",
      "source": [
        "#예제 10\n",
        "bingo = BingoCage(range(3))\n",
        "bingo.pick()"
      ],
      "metadata": {
        "colab": {
          "base_uri": "https://localhost:8080/"
        },
        "id": "ZV1AZxPbjUko",
        "outputId": "66ffdd63-f165-4c4d-bc17-df4e201a4fb5"
      },
      "execution_count": 102,
      "outputs": [
        {
          "output_type": "execute_result",
          "data": {
            "text/plain": [
              "1"
            ]
          },
          "metadata": {},
          "execution_count": 102
        }
      ]
    },
    {
      "cell_type": "code",
      "source": [
        "bingo()"
      ],
      "metadata": {
        "colab": {
          "base_uri": "https://localhost:8080/"
        },
        "id": "TMNlF6YqjbU4",
        "outputId": "164bf021-6834-4ceb-9a68-7ce80a132e54"
      },
      "execution_count": 103,
      "outputs": [
        {
          "output_type": "execute_result",
          "data": {
            "text/plain": [
              "0"
            ]
          },
          "metadata": {},
          "execution_count": 103
        }
      ]
    },
    {
      "cell_type": "code",
      "source": [
        "callable(bingo)"
      ],
      "metadata": {
        "colab": {
          "base_uri": "https://localhost:8080/"
        },
        "id": "M-YiKCTQnG7y",
        "outputId": "9412f671-991e-4dc0-f395-9861e3a783b7"
      },
      "execution_count": 104,
      "outputs": [
        {
          "output_type": "execute_result",
          "data": {
            "text/plain": [
              "True"
            ]
          },
          "metadata": {},
          "execution_count": 104
        }
      ]
    },
    {
      "cell_type": "code",
      "source": [
        "bingo()"
      ],
      "metadata": {
        "colab": {
          "base_uri": "https://localhost:8080/"
        },
        "id": "3Yef_ayVnJML",
        "outputId": "7c544672-6c22-40e1-9cca-765cfd1e7bb8"
      },
      "execution_count": 105,
      "outputs": [
        {
          "output_type": "execute_result",
          "data": {
            "text/plain": [
              "2"
            ]
          },
          "metadata": {},
          "execution_count": 105
        }
      ]
    },
    {
      "cell_type": "code",
      "source": [
        "#예제 11\n",
        "bingo()"
      ],
      "metadata": {
        "colab": {
          "base_uri": "https://localhost:8080/",
          "height": 435
        },
        "id": "x-gKhIutnkF0",
        "outputId": "3e77744e-ebf5-496f-db15-24b0b21f4e13"
      },
      "execution_count": 106,
      "outputs": [
        {
          "output_type": "error",
          "ename": "LookupError",
          "evalue": "pick from empty BingoCage",
          "traceback": [
            "\u001b[0;31m---------------------------------------------------------------------------\u001b[0m",
            "\u001b[0;31mIndexError\u001b[0m                                Traceback (most recent call last)",
            "\u001b[0;32m/tmp/ipython-input-2600751078.py\u001b[0m in \u001b[0;36mpick\u001b[0;34m(self)\u001b[0m\n\u001b[1;32m     10\u001b[0m     \u001b[0;32mtry\u001b[0m\u001b[0;34m:\u001b[0m\u001b[0;34m\u001b[0m\u001b[0;34m\u001b[0m\u001b[0m\n\u001b[0;32m---> 11\u001b[0;31m       \u001b[0;32mreturn\u001b[0m \u001b[0mself\u001b[0m\u001b[0;34m.\u001b[0m\u001b[0m_items\u001b[0m\u001b[0;34m.\u001b[0m\u001b[0mpop\u001b[0m\u001b[0;34m(\u001b[0m\u001b[0;34m)\u001b[0m\u001b[0;34m\u001b[0m\u001b[0;34m\u001b[0m\u001b[0m\n\u001b[0m\u001b[1;32m     12\u001b[0m     \u001b[0;32mexcept\u001b[0m\u001b[0;34m:\u001b[0m\u001b[0;34m\u001b[0m\u001b[0;34m\u001b[0m\u001b[0m\n",
            "\u001b[0;31mIndexError\u001b[0m: pop from empty list",
            "\nDuring handling of the above exception, another exception occurred:\n",
            "\u001b[0;31mLookupError\u001b[0m                               Traceback (most recent call last)",
            "\u001b[0;32m/tmp/ipython-input-98270642.py\u001b[0m in \u001b[0;36m<cell line: 0>\u001b[0;34m()\u001b[0m\n\u001b[1;32m      1\u001b[0m \u001b[0;31m#예제 11\u001b[0m\u001b[0;34m\u001b[0m\u001b[0;34m\u001b[0m\u001b[0m\n\u001b[0;32m----> 2\u001b[0;31m \u001b[0mbingo\u001b[0m\u001b[0;34m(\u001b[0m\u001b[0;34m)\u001b[0m\u001b[0;34m\u001b[0m\u001b[0;34m\u001b[0m\u001b[0m\n\u001b[0m",
            "\u001b[0;32m/tmp/ipython-input-2600751078.py\u001b[0m in \u001b[0;36m__call__\u001b[0;34m(self)\u001b[0m\n\u001b[1;32m     14\u001b[0m \u001b[0;34m\u001b[0m\u001b[0m\n\u001b[1;32m     15\u001b[0m   \u001b[0;32mdef\u001b[0m \u001b[0m__call__\u001b[0m\u001b[0;34m(\u001b[0m\u001b[0mself\u001b[0m\u001b[0;34m)\u001b[0m\u001b[0;34m:\u001b[0m\u001b[0;34m\u001b[0m\u001b[0;34m\u001b[0m\u001b[0m\n\u001b[0;32m---> 16\u001b[0;31m     \u001b[0;32mreturn\u001b[0m \u001b[0mself\u001b[0m\u001b[0;34m.\u001b[0m\u001b[0mpick\u001b[0m\u001b[0;34m(\u001b[0m\u001b[0;34m)\u001b[0m\u001b[0;34m\u001b[0m\u001b[0;34m\u001b[0m\u001b[0m\n\u001b[0m",
            "\u001b[0;32m/tmp/ipython-input-2600751078.py\u001b[0m in \u001b[0;36mpick\u001b[0;34m(self)\u001b[0m\n\u001b[1;32m     11\u001b[0m       \u001b[0;32mreturn\u001b[0m \u001b[0mself\u001b[0m\u001b[0;34m.\u001b[0m\u001b[0m_items\u001b[0m\u001b[0;34m.\u001b[0m\u001b[0mpop\u001b[0m\u001b[0;34m(\u001b[0m\u001b[0;34m)\u001b[0m\u001b[0;34m\u001b[0m\u001b[0;34m\u001b[0m\u001b[0m\n\u001b[1;32m     12\u001b[0m     \u001b[0;32mexcept\u001b[0m\u001b[0;34m:\u001b[0m\u001b[0;34m\u001b[0m\u001b[0;34m\u001b[0m\u001b[0m\n\u001b[0;32m---> 13\u001b[0;31m       \u001b[0;32mraise\u001b[0m \u001b[0mLookupError\u001b[0m\u001b[0;34m(\u001b[0m\u001b[0;34m'pick from empty BingoCage'\u001b[0m\u001b[0;34m)\u001b[0m\u001b[0;34m\u001b[0m\u001b[0;34m\u001b[0m\u001b[0m\n\u001b[0m\u001b[1;32m     14\u001b[0m \u001b[0;34m\u001b[0m\u001b[0m\n\u001b[1;32m     15\u001b[0m   \u001b[0;32mdef\u001b[0m \u001b[0m__call__\u001b[0m\u001b[0;34m(\u001b[0m\u001b[0mself\u001b[0m\u001b[0;34m)\u001b[0m\u001b[0;34m:\u001b[0m\u001b[0;34m\u001b[0m\u001b[0;34m\u001b[0m\u001b[0m\n",
            "\u001b[0;31mLookupError\u001b[0m: pick from empty BingoCage"
          ]
        }
      ]
    },
    {
      "cell_type": "code",
      "source": [
        "#예제 12\n",
        "def tag(name, *content, cls=None, **attrs):\n",
        "  \"\"\"하나 이상의 HTML 태그를 생성\"\"\"\n",
        "  if cls is not None:\n",
        "    attrs['class'] = cls\n",
        "  if attrs:\n",
        "    attr_str = ''.join(' %s=\"%s\"' % (attr, value) for attr, value in sorted(attrs.items()))\n",
        "  else:\n",
        "    attr_str = ''\n",
        "  if content:\n",
        "    return '\\n'.join('<%s%s>%s</%s>' % (name, attr_str, c, name) for c in content)\n",
        "  else:\n",
        "    return '<%s%s />' % (name, attr_str)"
      ],
      "metadata": {
        "id": "3xpSBPTcjhD4"
      },
      "execution_count": 34,
      "outputs": []
    },
    {
      "cell_type": "code",
      "source": [
        "#예제 13\n",
        "tag('br')"
      ],
      "metadata": {
        "colab": {
          "base_uri": "https://localhost:8080/",
          "height": 36
        },
        "id": "j91wbdaOkb72",
        "outputId": "b9aea4b9-2c43-4e7f-f2fe-824f2861e71f"
      },
      "execution_count": 35,
      "outputs": [
        {
          "output_type": "execute_result",
          "data": {
            "text/plain": [
              "'<br />'"
            ],
            "application/vnd.google.colaboratory.intrinsic+json": {
              "type": "string"
            }
          },
          "metadata": {},
          "execution_count": 35
        }
      ]
    },
    {
      "cell_type": "code",
      "source": [
        "tag('p', 'hello')"
      ],
      "metadata": {
        "colab": {
          "base_uri": "https://localhost:8080/",
          "height": 36
        },
        "id": "veYaysagkdtI",
        "outputId": "f7422b94-07af-4db0-a771-3416956d9446"
      },
      "execution_count": 36,
      "outputs": [
        {
          "output_type": "execute_result",
          "data": {
            "text/plain": [
              "'<p>hello</p>'"
            ],
            "application/vnd.google.colaboratory.intrinsic+json": {
              "type": "string"
            }
          },
          "metadata": {},
          "execution_count": 36
        }
      ]
    },
    {
      "cell_type": "code",
      "source": [
        "print(tag('p', 'hello', 'world'))"
      ],
      "metadata": {
        "colab": {
          "base_uri": "https://localhost:8080/"
        },
        "id": "5O8c_5IDkfm3",
        "outputId": "628d118d-3293-4aef-9853-cc114ef424ed"
      },
      "execution_count": 37,
      "outputs": [
        {
          "output_type": "stream",
          "name": "stdout",
          "text": [
            "<p>hello</p>\n",
            "<p>world</p>\n"
          ]
        }
      ]
    },
    {
      "cell_type": "code",
      "source": [
        "tag('p', 'hello', id=33)"
      ],
      "metadata": {
        "colab": {
          "base_uri": "https://localhost:8080/",
          "height": 36
        },
        "id": "3VzqYrEVkjlw",
        "outputId": "9218fc5a-102f-4598-e64a-d06a5bfdf459"
      },
      "execution_count": 38,
      "outputs": [
        {
          "output_type": "execute_result",
          "data": {
            "text/plain": [
              "'<p id=\"33\">hello</p>'"
            ],
            "application/vnd.google.colaboratory.intrinsic+json": {
              "type": "string"
            }
          },
          "metadata": {},
          "execution_count": 38
        }
      ]
    },
    {
      "cell_type": "code",
      "source": [
        "#예제 14\n",
        "print(tag('p', 'hello', 'world', cls='sidebar'))"
      ],
      "metadata": {
        "colab": {
          "base_uri": "https://localhost:8080/"
        },
        "id": "1tizrnYFkoLX",
        "outputId": "99c624de-20ec-4e56-f002-da7604d51958"
      },
      "execution_count": 39,
      "outputs": [
        {
          "output_type": "stream",
          "name": "stdout",
          "text": [
            "<p class=\"sidebar\">hello</p>\n",
            "<p class=\"sidebar\">world</p>\n"
          ]
        }
      ]
    },
    {
      "cell_type": "code",
      "source": [
        "tag(content='testing', name='img')"
      ],
      "metadata": {
        "colab": {
          "base_uri": "https://localhost:8080/",
          "height": 36
        },
        "id": "COqLpWtXk6LJ",
        "outputId": "8d4783e9-6811-48f2-bb4d-60b8f1aa5cb2"
      },
      "execution_count": 40,
      "outputs": [
        {
          "output_type": "execute_result",
          "data": {
            "text/plain": [
              "'<img content=\"testing\" />'"
            ],
            "application/vnd.google.colaboratory.intrinsic+json": {
              "type": "string"
            }
          },
          "metadata": {},
          "execution_count": 40
        }
      ]
    },
    {
      "cell_type": "code",
      "source": [
        "my_tag = {'name': 'img', 'title':'Sunset Boulevard', 'str':'sunset.jpg', 'cls':'framed'}"
      ],
      "metadata": {
        "id": "w-iw7xmnk8_W"
      },
      "execution_count": 41,
      "outputs": []
    },
    {
      "cell_type": "code",
      "source": [
        "tag(**my_tag)"
      ],
      "metadata": {
        "colab": {
          "base_uri": "https://localhost:8080/",
          "height": 36
        },
        "id": "XYL8IO6ilK7Y",
        "outputId": "7b213e15-4938-4a2b-f226-6ae0932adbf5"
      },
      "execution_count": 42,
      "outputs": [
        {
          "output_type": "execute_result",
          "data": {
            "text/plain": [
              "'<img class=\"framed\" str=\"sunset.jpg\" title=\"Sunset Boulevard\" />'"
            ],
            "application/vnd.google.colaboratory.intrinsic+json": {
              "type": "string"
            }
          },
          "metadata": {},
          "execution_count": 42
        }
      ]
    },
    {
      "cell_type": "code",
      "source": [
        "#예제 15\n",
        "def f(a, *, b):\n",
        "  return a,b\n",
        "f(1, b=2)"
      ],
      "metadata": {
        "colab": {
          "base_uri": "https://localhost:8080/"
        },
        "id": "tGJJtN6ZlMTs",
        "outputId": "e87bb7cc-412c-4c7e-ce33-13d0ac21883f"
      },
      "execution_count": 43,
      "outputs": [
        {
          "output_type": "execute_result",
          "data": {
            "text/plain": [
              "(1, 2)"
            ]
          },
          "metadata": {},
          "execution_count": 43
        }
      ]
    },
    {
      "cell_type": "code",
      "source": [
        "#예제 16\n",
        "\n",
        "def create_user(name, *, age, is_admin=False):\n",
        "  print(f\"Name: {name}, Age: {age}, Admin: {is_admin}\")\n",
        "\n",
        "create_user(\"Alice\", age=30, is_admin=True)\n",
        "create_user(\"Bob\", 25)"
      ],
      "metadata": {
        "colab": {
          "base_uri": "https://localhost:8080/",
          "height": 205
        },
        "id": "v4suAfl7lQCs",
        "outputId": "c8b58695-a126-4a04-8ef4-9409e013cee5"
      },
      "execution_count": 45,
      "outputs": [
        {
          "output_type": "stream",
          "name": "stdout",
          "text": [
            "Name: Alice, Age: 30, Admin: True\n"
          ]
        },
        {
          "output_type": "error",
          "ename": "TypeError",
          "evalue": "create_user() takes 1 positional argument but 2 were given",
          "traceback": [
            "\u001b[0;31m---------------------------------------------------------------------------\u001b[0m",
            "\u001b[0;31mTypeError\u001b[0m                                 Traceback (most recent call last)",
            "\u001b[0;32m/tmp/ipython-input-3367258061.py\u001b[0m in \u001b[0;36m<cell line: 0>\u001b[0;34m()\u001b[0m\n\u001b[1;32m      5\u001b[0m \u001b[0;34m\u001b[0m\u001b[0m\n\u001b[1;32m      6\u001b[0m \u001b[0mcreate_user\u001b[0m\u001b[0;34m(\u001b[0m\u001b[0;34m\"Alice\"\u001b[0m\u001b[0;34m,\u001b[0m \u001b[0mage\u001b[0m\u001b[0;34m=\u001b[0m\u001b[0;36m30\u001b[0m\u001b[0;34m,\u001b[0m \u001b[0mis_admin\u001b[0m\u001b[0;34m=\u001b[0m\u001b[0;32mTrue\u001b[0m\u001b[0;34m)\u001b[0m\u001b[0;34m\u001b[0m\u001b[0;34m\u001b[0m\u001b[0m\n\u001b[0;32m----> 7\u001b[0;31m \u001b[0mcreate_user\u001b[0m\u001b[0;34m(\u001b[0m\u001b[0;34m\"Bob\"\u001b[0m\u001b[0;34m,\u001b[0m \u001b[0;36m25\u001b[0m\u001b[0;34m)\u001b[0m\u001b[0;34m\u001b[0m\u001b[0;34m\u001b[0m\u001b[0m\n\u001b[0m",
            "\u001b[0;31mTypeError\u001b[0m: create_user() takes 1 positional argument but 2 were given"
          ]
        }
      ]
    },
    {
      "cell_type": "code",
      "source": [
        "#예제 17\n",
        "def clip(text, max_len=80):\n",
        "  \"\"\"max_len 앞이나 뒤의 마지막 공백에서 잘라낸 텍스트를 반환한다.\"\"\"\n",
        "\n",
        "  end=None\n",
        "  if len(text) > max_len:\n",
        "    space_before = text.rfind(' ', 0, max_len)\n",
        "    # 0부터 max_len 사이에서 역순으로 ' '를 찾음\n",
        "    if space_before >= 0:\n",
        "      end = space_before\n",
        "    else:\n",
        "      space_after = text.rfind(' ', max_len)\n",
        "      # max_len부터 ' ' 를 찾음\n",
        "      if space_after >= 0:\n",
        "        end = space_after\n",
        "\n",
        "  if end is None: # 공백이 없다.\n",
        "    end = len(text)\n",
        "  return text[:end].rstrip()"
      ],
      "metadata": {
        "id": "jGlDVGyylhmG"
      },
      "execution_count": 46,
      "outputs": []
    },
    {
      "cell_type": "code",
      "source": [
        "#예제 18\n",
        "clip.__defaults__"
      ],
      "metadata": {
        "colab": {
          "base_uri": "https://localhost:8080/"
        },
        "id": "OV1jjvh7mPqf",
        "outputId": "d9d61867-5a21-472e-ced0-7540b726d0d5"
      },
      "execution_count": 47,
      "outputs": [
        {
          "output_type": "execute_result",
          "data": {
            "text/plain": [
              "(80,)"
            ]
          },
          "metadata": {},
          "execution_count": 47
        }
      ]
    },
    {
      "cell_type": "code",
      "source": [
        "clip.__code__"
      ],
      "metadata": {
        "colab": {
          "base_uri": "https://localhost:8080/"
        },
        "id": "UZh7mRjSmSIG",
        "outputId": "aa8c7210-3b81-4a09-9f40-ea526533fa34"
      },
      "execution_count": 48,
      "outputs": [
        {
          "output_type": "execute_result",
          "data": {
            "text/plain": [
              "<code object clip at 0x7dadba209f70, file \"/tmp/ipython-input-3723661118.py\", line 2>"
            ]
          },
          "metadata": {},
          "execution_count": 48
        }
      ]
    },
    {
      "cell_type": "code",
      "source": [
        "clip.__code__.co_varnames"
      ],
      "metadata": {
        "colab": {
          "base_uri": "https://localhost:8080/"
        },
        "id": "oRgTcV4qmTtV",
        "outputId": "70adcb41-39d6-4114-a2ea-ac9b51dfb373"
      },
      "execution_count": 49,
      "outputs": [
        {
          "output_type": "execute_result",
          "data": {
            "text/plain": [
              "('text', 'max_len', 'end', 'space_before', 'space_after')"
            ]
          },
          "metadata": {},
          "execution_count": 49
        }
      ]
    },
    {
      "cell_type": "code",
      "source": [
        "clip.__code__.co_argcount"
      ],
      "metadata": {
        "colab": {
          "base_uri": "https://localhost:8080/"
        },
        "id": "xFqjLExemWFu",
        "outputId": "c721c286-6cab-46ef-c4cc-a673872df452"
      },
      "execution_count": 50,
      "outputs": [
        {
          "output_type": "execute_result",
          "data": {
            "text/plain": [
              "2"
            ]
          },
          "metadata": {},
          "execution_count": 50
        }
      ]
    },
    {
      "cell_type": "code",
      "source": [
        "#예제 19\n",
        "from inspect import signature\n",
        "sig = signature(clip)\n",
        "sig # doctest: +ELLIPSIS"
      ],
      "metadata": {
        "colab": {
          "base_uri": "https://localhost:8080/"
        },
        "id": "qX1XTMRxmX0O",
        "outputId": "cbe75f90-c219-40c2-93f9-09c51731d412"
      },
      "execution_count": 51,
      "outputs": [
        {
          "output_type": "execute_result",
          "data": {
            "text/plain": [
              "<Signature (text, max_len=80)>"
            ]
          },
          "metadata": {},
          "execution_count": 51
        }
      ]
    },
    {
      "cell_type": "code",
      "source": [
        "str(sig)"
      ],
      "metadata": {
        "colab": {
          "base_uri": "https://localhost:8080/",
          "height": 36
        },
        "id": "8Eu1lajomfpW",
        "outputId": "ab0ea6ef-59fc-465d-c56a-0d4e4ca6e5a2"
      },
      "execution_count": 52,
      "outputs": [
        {
          "output_type": "execute_result",
          "data": {
            "text/plain": [
              "'(text, max_len=80)'"
            ],
            "application/vnd.google.colaboratory.intrinsic+json": {
              "type": "string"
            }
          },
          "metadata": {},
          "execution_count": 52
        }
      ]
    },
    {
      "cell_type": "code",
      "source": [
        "for name, param in sig.parameters.items():\n",
        "  print(param.kind, \":\", name, \"=\", param.default)"
      ],
      "metadata": {
        "colab": {
          "base_uri": "https://localhost:8080/"
        },
        "id": "fR-vBwJ_mggT",
        "outputId": "de842e54-47cd-4a11-a7be-ec65ea17f781"
      },
      "execution_count": 54,
      "outputs": [
        {
          "output_type": "stream",
          "name": "stdout",
          "text": [
            "POSITIONAL_OR_KEYWORD : text = <class 'inspect._empty'>\n",
            "POSITIONAL_OR_KEYWORD : max_len = 80\n"
          ]
        }
      ]
    },
    {
      "cell_type": "code",
      "source": [
        "#예제20\n",
        "from inspect import signature\n",
        "\n",
        "sig = signature(tag)"
      ],
      "metadata": {
        "id": "rzHa8Y3_mlRD"
      },
      "execution_count": 107,
      "outputs": []
    },
    {
      "cell_type": "code",
      "source": [
        "my_tag"
      ],
      "metadata": {
        "colab": {
          "base_uri": "https://localhost:8080/"
        },
        "id": "r2sCt7Wnnthd",
        "outputId": "74335a95-fa25-4f84-a10d-6371ae1c295f"
      },
      "execution_count": 108,
      "outputs": [
        {
          "output_type": "execute_result",
          "data": {
            "text/plain": [
              "{'name': 'img',\n",
              " 'title': 'Sunset Boulevard',\n",
              " 'str': 'sunset.jpg',\n",
              " 'cls': 'framed'}"
            ]
          },
          "metadata": {},
          "execution_count": 108
        }
      ]
    },
    {
      "cell_type": "code",
      "source": [
        "bound_args = sig.bind(**my_tag)\n",
        "bound_args"
      ],
      "metadata": {
        "colab": {
          "base_uri": "https://localhost:8080/"
        },
        "id": "6GhDVYGYnuWl",
        "outputId": "f2cd6592-2c07-41d8-90a9-e5974b5b4aaf"
      },
      "execution_count": 110,
      "outputs": [
        {
          "output_type": "execute_result",
          "data": {
            "text/plain": [
              "<BoundArguments (name='img', cls='framed', attrs={'title': 'Sunset Boulevard', 'str': 'sunset.jpg'})>"
            ]
          },
          "metadata": {},
          "execution_count": 110
        }
      ]
    },
    {
      "cell_type": "code",
      "source": [
        "for name, value in bound_args.arguments.items():\n",
        "  print(name, '=', value)"
      ],
      "metadata": {
        "colab": {
          "base_uri": "https://localhost:8080/"
        },
        "id": "eSuM1GTcn0Dl",
        "outputId": "8bd4c079-9167-4a73-c819-9f987bd06a39"
      },
      "execution_count": 111,
      "outputs": [
        {
          "output_type": "stream",
          "name": "stdout",
          "text": [
            "name = img\n",
            "cls = framed\n",
            "attrs = {'title': 'Sunset Boulevard', 'str': 'sunset.jpg'}\n"
          ]
        }
      ]
    },
    {
      "cell_type": "code",
      "source": [
        "del my_tag['name']"
      ],
      "metadata": {
        "id": "ifEpG3hCn8dk"
      },
      "execution_count": 112,
      "outputs": []
    },
    {
      "cell_type": "code",
      "source": [
        "bound_args = sig.bind(**my_tag)\n",
        "bound_args # 필수 인수인 name이 없으므로 에러가 발생"
      ],
      "metadata": {
        "colab": {
          "base_uri": "https://localhost:8080/",
          "height": 323
        },
        "id": "w2eOkKNwn_Tl",
        "outputId": "58b3220b-1477-4ecc-cf75-77a9d518ad48"
      },
      "execution_count": 114,
      "outputs": [
        {
          "output_type": "error",
          "ename": "TypeError",
          "evalue": "missing a required argument: 'name'",
          "traceback": [
            "\u001b[0;31m---------------------------------------------------------------------------\u001b[0m",
            "\u001b[0;31mTypeError\u001b[0m                                 Traceback (most recent call last)",
            "\u001b[0;32m/tmp/ipython-input-44014073.py\u001b[0m in \u001b[0;36m<cell line: 0>\u001b[0;34m()\u001b[0m\n\u001b[0;32m----> 1\u001b[0;31m \u001b[0mbound_args\u001b[0m \u001b[0;34m=\u001b[0m \u001b[0msig\u001b[0m\u001b[0;34m.\u001b[0m\u001b[0mbind\u001b[0m\u001b[0;34m(\u001b[0m\u001b[0;34m**\u001b[0m\u001b[0mmy_tag\u001b[0m\u001b[0;34m)\u001b[0m\u001b[0;34m\u001b[0m\u001b[0;34m\u001b[0m\u001b[0m\n\u001b[0m\u001b[1;32m      2\u001b[0m \u001b[0mbound_args\u001b[0m \u001b[0;31m# 필수 인수인 name이 없으므로 에러가 발생\u001b[0m\u001b[0;34m\u001b[0m\u001b[0;34m\u001b[0m\u001b[0m\n",
            "\u001b[0;32m/usr/lib/python3.12/inspect.py\u001b[0m in \u001b[0;36mbind\u001b[0;34m(self, *args, **kwargs)\u001b[0m\n\u001b[1;32m   3278\u001b[0m         \u001b[0;32mif\u001b[0m \u001b[0mthe\u001b[0m \u001b[0mpassed\u001b[0m \u001b[0marguments\u001b[0m \u001b[0mcan\u001b[0m \u001b[0;32mnot\u001b[0m \u001b[0mbe\u001b[0m \u001b[0mbound\u001b[0m\u001b[0;34m.\u001b[0m\u001b[0;34m\u001b[0m\u001b[0;34m\u001b[0m\u001b[0m\n\u001b[1;32m   3279\u001b[0m         \"\"\"\n\u001b[0;32m-> 3280\u001b[0;31m         \u001b[0;32mreturn\u001b[0m \u001b[0mself\u001b[0m\u001b[0;34m.\u001b[0m\u001b[0m_bind\u001b[0m\u001b[0;34m(\u001b[0m\u001b[0margs\u001b[0m\u001b[0;34m,\u001b[0m \u001b[0mkwargs\u001b[0m\u001b[0;34m)\u001b[0m\u001b[0;34m\u001b[0m\u001b[0;34m\u001b[0m\u001b[0m\n\u001b[0m\u001b[1;32m   3281\u001b[0m \u001b[0;34m\u001b[0m\u001b[0m\n\u001b[1;32m   3282\u001b[0m     \u001b[0;32mdef\u001b[0m \u001b[0mbind_partial\u001b[0m\u001b[0;34m(\u001b[0m\u001b[0mself\u001b[0m\u001b[0;34m,\u001b[0m \u001b[0;34m/\u001b[0m\u001b[0;34m,\u001b[0m \u001b[0;34m*\u001b[0m\u001b[0margs\u001b[0m\u001b[0;34m,\u001b[0m \u001b[0;34m**\u001b[0m\u001b[0mkwargs\u001b[0m\u001b[0;34m)\u001b[0m\u001b[0;34m:\u001b[0m\u001b[0;34m\u001b[0m\u001b[0;34m\u001b[0m\u001b[0m\n",
            "\u001b[0;32m/usr/lib/python3.12/inspect.py\u001b[0m in \u001b[0;36m_bind\u001b[0;34m(self, args, kwargs, partial)\u001b[0m\n\u001b[1;32m   3191\u001b[0m                             \u001b[0mmsg\u001b[0m \u001b[0;34m=\u001b[0m \u001b[0;34m'missing a required{argtype} argument: {arg!r}'\u001b[0m\u001b[0;34m\u001b[0m\u001b[0;34m\u001b[0m\u001b[0m\n\u001b[1;32m   3192\u001b[0m                             \u001b[0mmsg\u001b[0m \u001b[0;34m=\u001b[0m \u001b[0mmsg\u001b[0m\u001b[0;34m.\u001b[0m\u001b[0mformat\u001b[0m\u001b[0;34m(\u001b[0m\u001b[0marg\u001b[0m\u001b[0;34m=\u001b[0m\u001b[0mparam\u001b[0m\u001b[0;34m.\u001b[0m\u001b[0mname\u001b[0m\u001b[0;34m,\u001b[0m \u001b[0margtype\u001b[0m\u001b[0;34m=\u001b[0m\u001b[0margtype\u001b[0m\u001b[0;34m)\u001b[0m\u001b[0;34m\u001b[0m\u001b[0;34m\u001b[0m\u001b[0m\n\u001b[0;32m-> 3193\u001b[0;31m                             \u001b[0;32mraise\u001b[0m \u001b[0mTypeError\u001b[0m\u001b[0;34m(\u001b[0m\u001b[0mmsg\u001b[0m\u001b[0;34m)\u001b[0m \u001b[0;32mfrom\u001b[0m \u001b[0;32mNone\u001b[0m\u001b[0;34m\u001b[0m\u001b[0;34m\u001b[0m\u001b[0m\n\u001b[0m\u001b[1;32m   3194\u001b[0m             \u001b[0;32melse\u001b[0m\u001b[0;34m:\u001b[0m\u001b[0;34m\u001b[0m\u001b[0;34m\u001b[0m\u001b[0m\n\u001b[1;32m   3195\u001b[0m                 \u001b[0;31m# We have a positional argument to process\u001b[0m\u001b[0;34m\u001b[0m\u001b[0;34m\u001b[0m\u001b[0m\n",
            "\u001b[0;31mTypeError\u001b[0m: missing a required argument: 'name'"
          ]
        }
      ]
    },
    {
      "cell_type": "code",
      "source": [
        "#예제 21\n",
        "def clip_fa(text:str, max_len:'int>0'=80) -> str:\n",
        "  \"\"\"max_len 앞이나 뒤의 마지막 공백에서 잘라낸 텍스트를 반환한다.\"\"\"\n",
        "\n",
        "  end=None\n",
        "  if len(text) > max_len:\n",
        "    space_before = text.frind(' ', 0, max_len)\n",
        "    # 0부터 max_len 사이에서 역순으로 ' '를 찾음\n",
        "    if space_before >= 0:\n",
        "      end = space_before\n",
        "    else:\n",
        "      space_after = text.rfind(' ', max_len)\n",
        "      # max_len부터 ' '를 찾음\n",
        "      if space_after >= 0:\n",
        "        end = space_after\n",
        "\n",
        "  if end is None:\n",
        "    end = len(text)\n",
        "  return text[:end].rstrip()"
      ],
      "metadata": {
        "id": "FVv_p6gsoC-L"
      },
      "execution_count": 115,
      "outputs": []
    },
    {
      "cell_type": "code",
      "source": [
        "#예제 22\n",
        "clip_fa.__annotations__"
      ],
      "metadata": {
        "colab": {
          "base_uri": "https://localhost:8080/"
        },
        "id": "32z7iMo9ovgz",
        "outputId": "4dcc5b92-c857-4fc1-ff04-684b9af5ff4c"
      },
      "execution_count": 117,
      "outputs": [
        {
          "output_type": "execute_result",
          "data": {
            "text/plain": [
              "{'text': str, 'max_len': 'int>0', 'return': str}"
            ]
          },
          "metadata": {},
          "execution_count": 117
        }
      ]
    },
    {
      "cell_type": "code",
      "source": [
        "#예제 23\n",
        "clip_fa.__annotations__"
      ],
      "metadata": {
        "colab": {
          "base_uri": "https://localhost:8080/"
        },
        "id": "HYjwQMFOoyRr",
        "outputId": "75e3866a-d3a2-47b3-ae33-81a33c4cb01d"
      },
      "execution_count": 118,
      "outputs": [
        {
          "output_type": "execute_result",
          "data": {
            "text/plain": [
              "{'text': str, 'max_len': 'int>0', 'return': str}"
            ]
          },
          "metadata": {},
          "execution_count": 118
        }
      ]
    },
    {
      "cell_type": "code",
      "source": [
        "sig2 = signature(clip_fa)\n",
        "sig2.return_annotation"
      ],
      "metadata": {
        "colab": {
          "base_uri": "https://localhost:8080/"
        },
        "id": "3TuAtY99o6Mr",
        "outputId": "47f34b90-52a7-454a-94c6-104d5cab5a4a"
      },
      "execution_count": 120,
      "outputs": [
        {
          "output_type": "execute_result",
          "data": {
            "text/plain": [
              "str"
            ]
          },
          "metadata": {},
          "execution_count": 120
        }
      ]
    },
    {
      "cell_type": "code",
      "source": [
        "for param in sig2.parameters.values():\n",
        "  note = repr(param.annotation).ljust(13)\n",
        "  print(note, ':', param.name, '=', param.default)"
      ],
      "metadata": {
        "colab": {
          "base_uri": "https://localhost:8080/"
        },
        "id": "QCf9DLYxo8vj",
        "outputId": "f7205cda-1f4b-4966-a5de-16338acbda10"
      },
      "execution_count": 121,
      "outputs": [
        {
          "output_type": "stream",
          "name": "stdout",
          "text": [
            "<class 'str'> : text = <class 'inspect._empty'>\n",
            "'int>0'       : max_len = 80\n"
          ]
        }
      ]
    },
    {
      "cell_type": "code",
      "source": [
        "#예제 24\n",
        "from functools import reduce"
      ],
      "metadata": {
        "id": "_muV6kCtpJ8T"
      },
      "execution_count": 122,
      "outputs": []
    },
    {
      "cell_type": "code",
      "source": [
        "def fact(n):\n",
        "  return reduce(lambda a, b: a*b, range(1, n+1))"
      ],
      "metadata": {
        "id": "R7bfwYe8pNJS"
      },
      "execution_count": 123,
      "outputs": []
    },
    {
      "cell_type": "code",
      "source": [
        "fact(10)"
      ],
      "metadata": {
        "colab": {
          "base_uri": "https://localhost:8080/"
        },
        "id": "WF8Zq8oypToz",
        "outputId": "aaa9b339-3762-4629-c289-281f3b7ac3b5"
      },
      "execution_count": 125,
      "outputs": [
        {
          "output_type": "execute_result",
          "data": {
            "text/plain": [
              "3628800"
            ]
          },
          "metadata": {},
          "execution_count": 125
        }
      ]
    },
    {
      "cell_type": "code",
      "source": [
        "#예제 25\n",
        "from operator import mul\n",
        "\n",
        "def fact(n):\n",
        "  return reduce(mul, range(1, n+1))"
      ],
      "metadata": {
        "id": "DN0Exxt0pUai"
      },
      "execution_count": 126,
      "outputs": []
    },
    {
      "cell_type": "code",
      "source": [
        "fact(10)"
      ],
      "metadata": {
        "colab": {
          "base_uri": "https://localhost:8080/"
        },
        "id": "BmA_RugFpcdb",
        "outputId": "a5b4464e-7b71-4e84-8088-0edee58ff265"
      },
      "execution_count": 127,
      "outputs": [
        {
          "output_type": "execute_result",
          "data": {
            "text/plain": [
              "3628800"
            ]
          },
          "metadata": {},
          "execution_count": 127
        }
      ]
    },
    {
      "cell_type": "code",
      "source": [
        "#예제 26\n",
        "metro_data = [\n",
        "    ('Tokyo', 'JP', 36.933, (35.689722, 139.691667)),\n",
        "    ('Delhi NCR', 'IN', 21.935, (28.613889, 77.208889)),\n",
        "    ('Mexico City', 'MX', 20.142, (19.433333, -99.133333)),\n",
        "    ('New York-Newark', 'US', 20.104, (40.808611, -74.020386)),\n",
        "    ('Sao Paulo', 'BR', 19.649, (-23.547778, -46.635833)),\n",
        "]"
      ],
      "metadata": {
        "id": "hxX-Ak4ZpdWc"
      },
      "execution_count": 129,
      "outputs": []
    },
    {
      "cell_type": "code",
      "source": [
        "from operator import itemgetter\n",
        "\n",
        "for city in sorted(metro_data, key=itemgetter(1)):\n",
        "    print(city)"
      ],
      "metadata": {
        "colab": {
          "base_uri": "https://localhost:8080/"
        },
        "id": "H764ElIbpuMB",
        "outputId": "33757223-2c09-4063-c932-e3e56c68001c"
      },
      "execution_count": 130,
      "outputs": [
        {
          "output_type": "stream",
          "name": "stdout",
          "text": [
            "('Sao Paulo', 'BR', 19.649, (-23.547778, -46.635833))\n",
            "('Delhi NCR', 'IN', 21.935, (28.613889, 77.208889))\n",
            "('Tokyo', 'JP', 36.933, (35.689722, 139.691667))\n",
            "('Mexico City', 'MX', 20.142, (19.433333, -99.133333))\n",
            "('New York-Newark', 'US', 20.104, (40.808611, -74.020386))\n"
          ]
        }
      ]
    },
    {
      "cell_type": "code",
      "source": [
        "#예제 27\n",
        "cc_name = itemgetter(1,0)\n",
        "for city in metro_data:\n",
        "  print(cc_name(city))"
      ],
      "metadata": {
        "colab": {
          "base_uri": "https://localhost:8080/"
        },
        "id": "CAGnF-gzqWrx",
        "outputId": "a558ad65-729b-4067-a51e-2c3c3ebd11ee"
      },
      "execution_count": 132,
      "outputs": [
        {
          "output_type": "stream",
          "name": "stdout",
          "text": [
            "('JP', 'Tokyo')\n",
            "('IN', 'Delhi NCR')\n",
            "('MX', 'Mexico City')\n",
            "('US', 'New York-Newark')\n",
            "('BR', 'Sao Paulo')\n"
          ]
        }
      ]
    },
    {
      "cell_type": "code",
      "source": [
        "#예제 28\n",
        "from collections import namedtuple\n",
        "LatLong = namedtuple('LatLong', 'lat long')\n",
        "Metropolis = namedtuple('Metropolis', 'name cc pop coord')\n",
        "metro_areas = [Metropolis(name, cc, pop, LatLong(lat, long)) for name, cc, pop, (lat, long) in metro_data]"
      ],
      "metadata": {
        "id": "R19NNz8Iqdma"
      },
      "execution_count": 133,
      "outputs": []
    },
    {
      "cell_type": "code",
      "source": [
        "metro_areas[0]"
      ],
      "metadata": {
        "colab": {
          "base_uri": "https://localhost:8080/"
        },
        "id": "y7fzCdBxqxaA",
        "outputId": "95c4e7fa-4de4-4af8-8c61-ced5ecc9e700"
      },
      "execution_count": 134,
      "outputs": [
        {
          "output_type": "execute_result",
          "data": {
            "text/plain": [
              "Metropolis(name='Tokyo', cc='JP', pop=36.933, coord=LatLong(lat=35.689722, long=139.691667))"
            ]
          },
          "metadata": {},
          "execution_count": 134
        }
      ]
    },
    {
      "cell_type": "code",
      "source": [
        "metro_areas[0].coord.lat"
      ],
      "metadata": {
        "colab": {
          "base_uri": "https://localhost:8080/"
        },
        "id": "ZsS2bBFAqz2D",
        "outputId": "5cf66c20-93cc-448d-953f-029ba6729534"
      },
      "execution_count": 135,
      "outputs": [
        {
          "output_type": "execute_result",
          "data": {
            "text/plain": [
              "35.689722"
            ]
          },
          "metadata": {},
          "execution_count": 135
        }
      ]
    },
    {
      "cell_type": "code",
      "source": [
        "from operator import attrgetter\n",
        "name_lat = attrgetter('name', 'coord.lat')"
      ],
      "metadata": {
        "id": "tjOXZOEiq5Bi"
      },
      "execution_count": 136,
      "outputs": []
    },
    {
      "cell_type": "code",
      "source": [
        "name_lat(metro_areas[0])"
      ],
      "metadata": {
        "colab": {
          "base_uri": "https://localhost:8080/"
        },
        "id": "fJ17FQkSq7i5",
        "outputId": "2496d96e-2454-402a-e576-d01d2dbf4a79"
      },
      "execution_count": 137,
      "outputs": [
        {
          "output_type": "execute_result",
          "data": {
            "text/plain": [
              "('Tokyo', 35.689722)"
            ]
          },
          "metadata": {},
          "execution_count": 137
        }
      ]
    },
    {
      "cell_type": "code",
      "source": [
        "for city in sorted(metro_areas, key=attrgetter('coord.lat')):\n",
        "  print(name_lat(city))"
      ],
      "metadata": {
        "colab": {
          "base_uri": "https://localhost:8080/"
        },
        "id": "8dDaN8W2q-A6",
        "outputId": "e82df570-cb44-45cc-9395-574b92a5f028"
      },
      "execution_count": 138,
      "outputs": [
        {
          "output_type": "stream",
          "name": "stdout",
          "text": [
            "('Sao Paulo', -23.547778)\n",
            "('Mexico City', 19.433333)\n",
            "('Delhi NCR', 28.613889)\n",
            "('Tokyo', 35.689722)\n",
            "('New York-Newark', 40.808611)\n"
          ]
        }
      ]
    },
    {
      "cell_type": "code",
      "source": [
        "# 뜬금없는 언패킹 연습\n",
        "metro_areas2 = [Metropolis(name, cc, pop, LatLong(*loc)) for name, cc, pop, loc in metro_data]\n",
        "metro_areas[0]"
      ],
      "metadata": {
        "colab": {
          "base_uri": "https://localhost:8080/"
        },
        "id": "ZA6XPfuorCiq",
        "outputId": "8edf7b7d-c0b0-4510-c30e-38ecef9bd335"
      },
      "execution_count": 139,
      "outputs": [
        {
          "output_type": "execute_result",
          "data": {
            "text/plain": [
              "Metropolis(name='Tokyo', cc='JP', pop=36.933, coord=LatLong(lat=35.689722, long=139.691667))"
            ]
          },
          "metadata": {},
          "execution_count": 139
        }
      ]
    },
    {
      "cell_type": "code",
      "source": [
        "#예제 29\n",
        "from operator import methodcaller\n",
        "s = 'The time has come'\n",
        "upcase = methodcaller('upper')"
      ],
      "metadata": {
        "id": "1W-bu0ZkrSGx"
      },
      "execution_count": 140,
      "outputs": []
    },
    {
      "cell_type": "code",
      "source": [
        "upcase(s)"
      ],
      "metadata": {
        "colab": {
          "base_uri": "https://localhost:8080/",
          "height": 36
        },
        "id": "6nFn65AerZ0X",
        "outputId": "a252bb79-7e45-4c0d-bb2d-c3e8c9d1b85b"
      },
      "execution_count": 141,
      "outputs": [
        {
          "output_type": "execute_result",
          "data": {
            "text/plain": [
              "'THE TIME HAS COME'"
            ],
            "application/vnd.google.colaboratory.intrinsic+json": {
              "type": "string"
            }
          },
          "metadata": {},
          "execution_count": 141
        }
      ]
    },
    {
      "cell_type": "code",
      "source": [
        "s.upper()"
      ],
      "metadata": {
        "colab": {
          "base_uri": "https://localhost:8080/",
          "height": 36
        },
        "id": "lMQoW35srasp",
        "outputId": "3f928a14-ead8-4a9f-976a-54ddcdda3729"
      },
      "execution_count": 142,
      "outputs": [
        {
          "output_type": "execute_result",
          "data": {
            "text/plain": [
              "'THE TIME HAS COME'"
            ],
            "application/vnd.google.colaboratory.intrinsic+json": {
              "type": "string"
            }
          },
          "metadata": {},
          "execution_count": 142
        }
      ]
    },
    {
      "cell_type": "code",
      "source": [
        "hiphenate = methodcaller('replace', ' ', '-')\n",
        "hiphenate(s)"
      ],
      "metadata": {
        "colab": {
          "base_uri": "https://localhost:8080/",
          "height": 36
        },
        "id": "9PbTmzKhrcHh",
        "outputId": "db9c0df2-e28b-4220-fd52-90543a869455"
      },
      "execution_count": 143,
      "outputs": [
        {
          "output_type": "execute_result",
          "data": {
            "text/plain": [
              "'The-time-has-come'"
            ],
            "application/vnd.google.colaboratory.intrinsic+json": {
              "type": "string"
            }
          },
          "metadata": {},
          "execution_count": 143
        }
      ]
    },
    {
      "cell_type": "code",
      "source": [
        "#예제 30\n",
        "from operator import mul\n",
        "from functools import partial\n",
        "triple = partial(mul, 3)\n",
        "triple(7)"
      ],
      "metadata": {
        "colab": {
          "base_uri": "https://localhost:8080/"
        },
        "id": "JWJW9CFhrkIK",
        "outputId": "a4c7d914-4a26-499c-9d5c-8c51f89a0058"
      },
      "execution_count": 144,
      "outputs": [
        {
          "output_type": "execute_result",
          "data": {
            "text/plain": [
              "21"
            ]
          },
          "metadata": {},
          "execution_count": 144
        }
      ]
    },
    {
      "cell_type": "code",
      "source": [
        "list(map(triple, range(1,10)))"
      ],
      "metadata": {
        "colab": {
          "base_uri": "https://localhost:8080/"
        },
        "id": "wgddfJL6rx6Y",
        "outputId": "23e3fa4e-7052-4f8b-9eb0-171bc1e479fd"
      },
      "execution_count": 145,
      "outputs": [
        {
          "output_type": "execute_result",
          "data": {
            "text/plain": [
              "[3, 6, 9, 12, 15, 18, 21, 24, 27]"
            ]
          },
          "metadata": {},
          "execution_count": 145
        }
      ]
    },
    {
      "cell_type": "code",
      "source": [
        "#예제 31\n",
        "import unicodedata\n",
        "nfc = partial(unicodedata.normalize, 'NFC')"
      ],
      "metadata": {
        "id": "KkK4poIwr0TI"
      },
      "execution_count": 146,
      "outputs": []
    },
    {
      "cell_type": "code",
      "source": [
        "s1 = 'café'\n",
        "s2 = 'cafe\\u0301'\n",
        "s1, s2"
      ],
      "metadata": {
        "colab": {
          "base_uri": "https://localhost:8080/"
        },
        "id": "5x__BFRyr75g",
        "outputId": "436c2fdd-fd53-4cfe-8b6e-fdf8cc39c035"
      },
      "execution_count": 147,
      "outputs": [
        {
          "output_type": "execute_result",
          "data": {
            "text/plain": [
              "('café', 'café')"
            ]
          },
          "metadata": {},
          "execution_count": 147
        }
      ]
    },
    {
      "cell_type": "code",
      "source": [
        "s1 == s2, nfc(s1) == nfc(s2)"
      ],
      "metadata": {
        "colab": {
          "base_uri": "https://localhost:8080/"
        },
        "id": "xDBWiy_1r8Io",
        "outputId": "002939e8-46ec-4d40-b284-98f72d2c7cd6"
      },
      "execution_count": 148,
      "outputs": [
        {
          "output_type": "execute_result",
          "data": {
            "text/plain": [
              "(False, True)"
            ]
          },
          "metadata": {},
          "execution_count": 148
        }
      ]
    },
    {
      "cell_type": "code",
      "source": [
        "#예제 32\n",
        "tag\n",
        "picture = partial(tag, 'img', cls='pic-frame')"
      ],
      "metadata": {
        "id": "0oJODzsur_Dx"
      },
      "execution_count": 149,
      "outputs": []
    },
    {
      "cell_type": "code",
      "source": [
        "picture(src='wumpus.jpeg')"
      ],
      "metadata": {
        "colab": {
          "base_uri": "https://localhost:8080/",
          "height": 36
        },
        "id": "bkJNy6BssEBn",
        "outputId": "0d58f142-bdfa-4b71-9082-8b76107c2616"
      },
      "execution_count": 150,
      "outputs": [
        {
          "output_type": "execute_result",
          "data": {
            "text/plain": [
              "'<img class=\"pic-frame\" src=\"wumpus.jpeg\" />'"
            ],
            "application/vnd.google.colaboratory.intrinsic+json": {
              "type": "string"
            }
          },
          "metadata": {},
          "execution_count": 150
        }
      ]
    },
    {
      "cell_type": "code",
      "source": [
        "tag, picture, picture.func, picture.args, picture.keywords"
      ],
      "metadata": {
        "colab": {
          "base_uri": "https://localhost:8080/"
        },
        "id": "j42qhsQVsERo",
        "outputId": "eb0ecea8-ac2f-4a9f-db80-27f8e8de3dde"
      },
      "execution_count": 151,
      "outputs": [
        {
          "output_type": "execute_result",
          "data": {
            "text/plain": [
              "(<function __main__.tag(name, *content, cls=None, **attrs)>,\n",
              " functools.partial(<function tag at 0x7dadba10a020>, 'img', cls='pic-frame'),\n",
              " <function __main__.tag(name, *content, cls=None, **attrs)>,\n",
              " ('img',),\n",
              " {'cls': 'pic-frame'})"
            ]
          },
          "metadata": {},
          "execution_count": 151
        }
      ]
    },
    {
      "cell_type": "code",
      "source": [],
      "metadata": {
        "id": "nC_Qix0PsJtg"
      },
      "execution_count": null,
      "outputs": []
    }
  ]
}